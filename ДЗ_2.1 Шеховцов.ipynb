{
 "cells": [
  {
   "cell_type": "code",
   "execution_count": 1,
   "id": "a66a40b1",
   "metadata": {},
   "outputs": [],
   "source": [
    "#Задание_1"
   ]
  },
  {
   "cell_type": "code",
   "execution_count": 2,
   "id": "df10a3f6",
   "metadata": {},
   "outputs": [],
   "source": [
    "def func_1(word):\n",
    "    length  = len(word)\n",
    "    if length % 2 == 0:\n",
    "        print(word[(length // 2) - 1 : (length  // 2) + 1])\n",
    "    else:\n",
    "        print(word[length // 2])"
   ]
  },
  {
   "cell_type": "code",
   "execution_count": 3,
   "id": "71dd5294",
   "metadata": {},
   "outputs": [
    {
     "name": "stdout",
     "output_type": "stream",
     "text": [
      "es\n"
     ]
    }
   ],
   "source": [
    "func_1('test')"
   ]
  },
  {
   "cell_type": "code",
   "execution_count": 4,
   "id": "6cdb0d4c",
   "metadata": {},
   "outputs": [
    {
     "name": "stdout",
     "output_type": "stream",
     "text": [
      "t\n"
     ]
    }
   ],
   "source": [
    "func_1('testing')"
   ]
  },
  {
   "cell_type": "code",
   "execution_count": 5,
   "id": "b9366606",
   "metadata": {},
   "outputs": [
    {
     "name": "stdout",
     "output_type": "stream",
     "text": [
      "a\n"
     ]
    }
   ],
   "source": [
    "func_1('programming')"
   ]
  },
  {
   "cell_type": "code",
   "execution_count": 6,
   "id": "040bcd96",
   "metadata": {},
   "outputs": [
    {
     "name": "stdout",
     "output_type": "stream",
     "text": [
      "th\n"
     ]
    }
   ],
   "source": [
    "func_1('python')"
   ]
  },
  {
   "cell_type": "code",
   "execution_count": 17,
   "id": "700ac50b",
   "metadata": {},
   "outputs": [],
   "source": [
    "#Задание_2"
   ]
  },
  {
   "cell_type": "code",
   "execution_count": 11,
   "id": "e3bc1839",
   "metadata": {},
   "outputs": [],
   "source": [
    "def func_2(boys, girls):\n",
    "    if len(boys) != len(girls):\n",
    "        print(\"Внимание, кто-то может остаться без пары!\")\n",
    "    else:\n",
    "        print(\"Идеальные пары:\")\n",
    "        for boy, girl in zip(sorted(boys), sorted(girls)):\n",
    "            print(f\"{boy} и {girl}\")"
   ]
  },
  {
   "cell_type": "code",
   "execution_count": 12,
   "id": "101d5e79",
   "metadata": {},
   "outputs": [
    {
     "name": "stdout",
     "output_type": "stream",
     "text": [
      "Идеальные пары:\n",
      "Alex и Emma\n",
      "Arthur и Kate\n",
      "John и Kira\n",
      "Peter и Liza\n",
      "Richard и Trisha\n"
     ]
    }
   ],
   "source": [
    "boys = ['Peter', 'Alex', 'John', 'Arthur', 'Richard']\n",
    "girls = ['Kate', 'Liza', 'Kira', 'Emma', 'Trisha']\n",
    "func_2(boys, girls)"
   ]
  },
  {
   "cell_type": "code",
   "execution_count": 13,
   "id": "bbada1a0",
   "metadata": {},
   "outputs": [
    {
     "name": "stdout",
     "output_type": "stream",
     "text": [
      "Внимание, кто-то может остаться без пары!\n"
     ]
    }
   ],
   "source": [
    "boys = ['Peter', 'Alex', 'John', 'Arthur', 'Richard', 'Michael']\n",
    "girls = ['Kate', 'Liza', 'Kira', 'Emma', 'Trisha']\n",
    "func_2(boys, girls)"
   ]
  },
  {
   "cell_type": "code",
   "execution_count": null,
   "id": "04c8cf43",
   "metadata": {},
   "outputs": [],
   "source": []
  }
 ],
 "metadata": {
  "kernelspec": {
   "display_name": "Python 3 (ipykernel)",
   "language": "python",
   "name": "python3"
  },
  "language_info": {
   "codemirror_mode": {
    "name": "ipython",
    "version": 3
   },
   "file_extension": ".py",
   "mimetype": "text/x-python",
   "name": "python",
   "nbconvert_exporter": "python",
   "pygments_lexer": "ipython3",
   "version": "3.11.5"
  }
 },
 "nbformat": 4,
 "nbformat_minor": 5
}
