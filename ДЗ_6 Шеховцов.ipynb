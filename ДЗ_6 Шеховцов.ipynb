{
 "cells": [
  {
   "cell_type": "code",
   "execution_count": 24,
   "id": "5585e249",
   "metadata": {},
   "outputs": [],
   "source": [
    "class Account:\n",
    "    def __init__(self, name, initial_balance=0):\n",
    "        \"\"\"\n",
    "        Создает новый банковский аккаунт.\n",
    "\n",
    "        name: Имя владельца счета\n",
    "        initial_balance: Начальный баланс счета\n",
    "        \n",
    "        \"\"\"\n",
    "        self.name = name\n",
    "        self.balance = initial_balance\n",
    "        self.history = []\n",
    "\n",
    "        # Запись стартового баланса в историю\n",
    "        self.history.append({\n",
    "            'Операция': 'начальный баланс',\n",
    "            'Сумма': initial_balance,\n",
    "            'Остаток на счете': self.balance\n",
    "        })\n",
    "\n",
    "    def deposit(self, amount):\n",
    "        \"\"\"\n",
    "        Метод осуществляет пополнение денег на счет\n",
    "        \n",
    "        amount: Сумма для пополнения\n",
    "        \n",
    "        \"\"\"\n",
    "        if amount <= 0:\n",
    "            print(\"Сумма снятия должна быть положительной.\")\n",
    "        else:\n",
    "            self.balance += amount\n",
    "\n",
    "            # Запись депозита в историю\n",
    "            self.history.append({\n",
    "                'Операция': 'пополнение',\n",
    "                'Сумма': amount,\n",
    "                'Остаток на счете': self.balance\n",
    "            })\n",
    "            print(f\"Баланс пополнен на {amount}. Текущий баланс: {self.balance}\")\n",
    "\n",
    "    def withdraw(self, amount):\n",
    "        \"\"\"\n",
    "        Метод осуществляет снятие денег со счета\n",
    "        \n",
    "        amount: Сумма для снятия\n",
    "        \n",
    "        \"\"\"\n",
    "        \n",
    "        if amount <= 0:\n",
    "            print(\"Сумма снятия должна быть положительной.\")\n",
    "            \n",
    "        if amount > self.balance:\n",
    "            print(\"На счете недостаточно средств.\")\n",
    "            \n",
    "            # Запись снятия в историю\n",
    "            self.history.append({\n",
    "                'Операция': 'недостаточно средств',\n",
    "                'Сумма': amount,\n",
    "                'Остаток на счете': self.balance\n",
    "            })\n",
    "            print(f\"Снято {0}. Остаток на счете: {self.balance}\")\n",
    "            \n",
    "            \n",
    "        if amount > 0 and amount < self.balance: \n",
    "            \n",
    "            self.balance -= amount\n",
    "        \n",
    "            # Запись снятия в историю\n",
    "            self.history.append({\n",
    "                'Операция': 'снятие',\n",
    "                'Сумма': amount,\n",
    "                'Остаток на счете': self.balance\n",
    "            })\n",
    "            print(f\"Снято {amount}. Остаток на счете: {self.balance}\")\n",
    "\n",
    "    def get_history(self):\n",
    "        \"\"\"\n",
    "        return: История операций\n",
    "        \n",
    "        \"\"\"\n",
    "        return self.history\n",
    "\n",
    "    def __str__(self):\n",
    "        \"\"\"\n",
    "        return: Информация о владельце и балансе\n",
    "        \n",
    "        \"\"\"\n",
    "        return f\"Счет владельца {self.name}, текущий баланс: {self.balance}\"\n",
    "\n"
   ]
  },
  {
   "cell_type": "code",
   "execution_count": 10,
   "id": "1803d445",
   "metadata": {},
   "outputs": [
    {
     "name": "stdout",
     "output_type": "stream",
     "text": [
      "Счет владельца Лев Шеховцов, текущий баланс: 1000\n"
     ]
    }
   ],
   "source": [
    "\n",
    "LevShekhovtsov = Account(name=\"Лев Шеховцов\", initial_balance=1000)\n",
    "print(LevShekhovtsov)\n"
   ]
  },
  {
   "cell_type": "code",
   "execution_count": 11,
   "id": "38c3853d",
   "metadata": {},
   "outputs": [
    {
     "name": "stdout",
     "output_type": "stream",
     "text": [
      "Баланс пополнен на 10000. Текущий баланс: 11000\n"
     ]
    }
   ],
   "source": [
    "LevShekhovtsov.deposit(10000)"
   ]
  },
  {
   "cell_type": "code",
   "execution_count": 12,
   "id": "11ec4b32",
   "metadata": {},
   "outputs": [
    {
     "name": "stdout",
     "output_type": "stream",
     "text": [
      "Сумма снятия должна быть положительной.\n"
     ]
    }
   ],
   "source": [
    "LevShekhovtsov.deposit(-10000)"
   ]
  },
  {
   "cell_type": "code",
   "execution_count": 13,
   "id": "438ada91",
   "metadata": {},
   "outputs": [
    {
     "name": "stdout",
     "output_type": "stream",
     "text": [
      "Снято 100. Остаток на счете: 10900\n"
     ]
    }
   ],
   "source": [
    "LevShekhovtsov.withdraw(100)"
   ]
  },
  {
   "cell_type": "code",
   "execution_count": 14,
   "id": "0e23d004",
   "metadata": {},
   "outputs": [
    {
     "name": "stdout",
     "output_type": "stream",
     "text": [
      "На счете недостаточно средств.\n",
      "Снято 0. Остаток на счете: 10900\n"
     ]
    }
   ],
   "source": [
    "LevShekhovtsov.withdraw(100000)"
   ]
  },
  {
   "cell_type": "code",
   "execution_count": 15,
   "id": "26629f34",
   "metadata": {},
   "outputs": [
    {
     "name": "stdout",
     "output_type": "stream",
     "text": [
      "Сумма снятия должна быть положительной.\n"
     ]
    }
   ],
   "source": [
    "LevShekhovtsov.withdraw(-100)"
   ]
  },
  {
   "cell_type": "code",
   "execution_count": 25,
   "id": "2546d697",
   "metadata": {},
   "outputs": [
    {
     "data": {
      "text/plain": [
       "[{'Операция': 'начальный баланс', 'Сумма': 1000, 'Остаток на счете': 1000},\n",
       " {'Операция': 'пополнение', 'Сумма': 10000, 'Остаток на счете': 11000},\n",
       " {'Операция': 'снятие', 'Сумма': 100, 'Остаток на счете': 10900},\n",
       " {'Операция': 'недостаточно средств',\n",
       "  'Сумма': 100000,\n",
       "  'Остаток на счете': 10900}]"
      ]
     },
     "execution_count": 25,
     "metadata": {},
     "output_type": "execute_result"
    }
   ],
   "source": [
    "LevShekhovtsov.get_history()"
   ]
  },
  {
   "cell_type": "code",
   "execution_count": null,
   "id": "14ab82f1",
   "metadata": {},
   "outputs": [],
   "source": []
  }
 ],
 "metadata": {
  "kernelspec": {
   "display_name": "Python 3 (ipykernel)",
   "language": "python",
   "name": "python3"
  },
  "language_info": {
   "codemirror_mode": {
    "name": "ipython",
    "version": 3
   },
   "file_extension": ".py",
   "mimetype": "text/x-python",
   "name": "python",
   "nbconvert_exporter": "python",
   "pygments_lexer": "ipython3",
   "version": "3.11.5"
  }
 },
 "nbformat": 4,
 "nbformat_minor": 5
}
