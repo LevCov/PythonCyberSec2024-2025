{
 "cells": [
  {
   "cell_type": "code",
   "execution_count": 1,
   "id": "8ac5caa3",
   "metadata": {},
   "outputs": [],
   "source": [
    "#Задание 1"
   ]
  },
  {
   "cell_type": "code",
   "execution_count": 2,
   "id": "1ee98ec9",
   "metadata": {},
   "outputs": [],
   "source": [
    "def func_1(ids):\n",
    "    unique_tags = set()\n",
    "    for tags in ids.values():\n",
    "        unique_tags.update(tags)\n",
    "    print(\"Результат:\", unique_tags)"
   ]
  },
  {
   "cell_type": "code",
   "execution_count": 3,
   "id": "d704fa57",
   "metadata": {},
   "outputs": [],
   "source": [
    "ids = {\n",
    "    'user1': [213, 213, 213, 15, 213],\n",
    "    'user2': [54, 54, 119, 119, 119],\n",
    "    'user3': [213, 98, 98, 35]\n",
    "}"
   ]
  },
  {
   "cell_type": "code",
   "execution_count": 4,
   "id": "f338b6c5",
   "metadata": {},
   "outputs": [
    {
     "name": "stdout",
     "output_type": "stream",
     "text": [
      "Результат: {98, 35, 15, 213, 54, 119}\n"
     ]
    }
   ],
   "source": [
    "func_1(ids)"
   ]
  },
  {
   "cell_type": "code",
   "execution_count": 5,
   "id": "f9f82a03",
   "metadata": {},
   "outputs": [],
   "source": [
    "#Задание 2"
   ]
  },
  {
   "cell_type": "code",
   "execution_count": 6,
   "id": "a3f4eee0",
   "metadata": {},
   "outputs": [],
   "source": [
    "def func_2(query):\n",
    "    word_count_distribution = {}\n",
    "    for query in queries:\n",
    "        word_count = len(query.split())\n",
    "        if word_count in word_count_distribution:\n",
    "            word_count_distribution[word_count] += 1\n",
    "        else:\n",
    "            word_count_distribution[word_count] = 1\n",
    "\n",
    "\n",
    "    total_queries = len(queries)\n",
    "\n",
    "\n",
    "    print(\"Результат:\")\n",
    "    for word_count in sorted(word_count_distribution):\n",
    "        count = word_count_distribution[word_count]\n",
    "        percentage = (count / total_queries) * 100\n",
    "        print(f\"Поисковых запросов, содержащих {word_count} слов(а): {percentage:.2f}%\")"
   ]
  },
  {
   "cell_type": "code",
   "execution_count": 7,
   "id": "6f16dce5",
   "metadata": {},
   "outputs": [],
   "source": [
    "queries = [\n",
    "    'смотреть сериалы онлайн',\n",
    "    'новости спорта',\n",
    "    'афиша кино',\n",
    "    'курс доллара',\n",
    "    'сериалы этим летом',\n",
    "    'курс по питону',\n",
    "    'сериалы про спорт',\n",
    "]"
   ]
  },
  {
   "cell_type": "code",
   "execution_count": 8,
   "id": "29cdabb0",
   "metadata": {},
   "outputs": [
    {
     "name": "stdout",
     "output_type": "stream",
     "text": [
      "Результат:\n",
      "Поисковых запросов, содержащих 2 слов(а): 42.86%\n",
      "Поисковых запросов, содержащих 3 слов(а): 57.14%\n"
     ]
    }
   ],
   "source": [
    "func_2(queries)"
   ]
  },
  {
   "cell_type": "code",
   "execution_count": null,
   "id": "1830bd0c",
   "metadata": {},
   "outputs": [],
   "source": []
  }
 ],
 "metadata": {
  "kernelspec": {
   "display_name": "Python 3 (ipykernel)",
   "language": "python",
   "name": "python3"
  },
  "language_info": {
   "codemirror_mode": {
    "name": "ipython",
    "version": 3
   },
   "file_extension": ".py",
   "mimetype": "text/x-python",
   "name": "python",
   "nbconvert_exporter": "python",
   "pygments_lexer": "ipython3",
   "version": "3.11.5"
  }
 },
 "nbformat": 4,
 "nbformat_minor": 5
}
