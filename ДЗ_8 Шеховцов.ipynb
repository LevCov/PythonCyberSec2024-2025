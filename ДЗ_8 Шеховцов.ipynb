{
 "cells": [
  {
   "cell_type": "code",
   "execution_count": 2,
   "id": "f8a0c394-2c42-4659-94c9-a9899ed901eb",
   "metadata": {},
   "outputs": [],
   "source": [
    "#Задание 1"
   ]
  },
  {
   "cell_type": "code",
   "execution_count": 6,
   "id": "6f47e83e-136b-471e-920e-8638407f78a2",
   "metadata": {},
   "outputs": [
    {
     "name": "stdout",
     "output_type": "stream",
     "text": [
      "Заголовок: sunt aut facere repellat provident occaecati excepturi optio reprehenderit\n",
      "Тело: quia et suscipit\n",
      "suscipit recusandae consequuntur expedita et cum\n",
      "reprehenderit molestiae ut ut quas totam\n",
      "nostrum rerum est autem sunt rem eveniet architecto\n",
      "----------------------------------------\n",
      "Заголовок: qui est esse\n",
      "Тело: est rerum tempore vitae\n",
      "sequi sint nihil reprehenderit dolor beatae ea dolores neque\n",
      "fugiat blanditiis voluptate porro vel nihil molestiae ut reiciendis\n",
      "qui aperiam non debitis possimus qui neque nisi nulla\n",
      "----------------------------------------\n",
      "Заголовок: ea molestias quasi exercitationem repellat qui ipsa sit aut\n",
      "Тело: et iusto sed quo iure\n",
      "voluptatem occaecati omnis eligendi aut ad\n",
      "voluptatem doloribus vel accusantium quis pariatur\n",
      "molestiae porro eius odio et labore et velit aut\n",
      "----------------------------------------\n",
      "Заголовок: eum et est occaecati\n",
      "Тело: ullam et saepe reiciendis voluptatem adipisci\n",
      "sit amet autem assumenda provident rerum culpa\n",
      "quis hic commodi nesciunt rem tenetur doloremque ipsam iure\n",
      "quis sunt voluptatem rerum illo velit\n",
      "----------------------------------------\n",
      "Заголовок: nesciunt quas odio\n",
      "Тело: repudiandae veniam quaerat sunt sed\n",
      "alias aut fugiat sit autem sed est\n",
      "voluptatem omnis possimus esse voluptatibus quis\n",
      "est aut tenetur dolor neque\n",
      "----------------------------------------\n"
     ]
    }
   ],
   "source": [
    "import requests\n",
    "\n",
    "url = 'https://jsonplaceholder.typicode.com/posts'\n",
    "response = requests.get(url)\n",
    "\n",
    "\n",
    "if response.status_code == 200:\n",
    "    posts = response.json()\n",
    "    for post in posts[:5]:\n",
    "        print(f\"Заголовок: {post['title']}\")\n",
    "        print(f\"Тело: {post['body']}\")\n",
    "        print('-' * 40)\n",
    "else:\n",
    "    print(f\"Ошибка: {response.status_code}\")"
   ]
  },
  {
   "cell_type": "code",
   "execution_count": 8,
   "id": "27f82645-2920-48fc-b086-fbdcab7f6d02",
   "metadata": {},
   "outputs": [],
   "source": [
    "#Задание 2"
   ]
  },
  {
   "cell_type": "code",
   "execution_count": 12,
   "id": "a4faa27c-2d7b-4125-8bd6-168d19a6c6d7",
   "metadata": {},
   "outputs": [
    {
     "name": "stdout",
     "output_type": "stream",
     "text": [
      "Текущая температура в Саратов: 1.09°C\n",
      "Описание погоды: overcast clouds\n"
     ]
    }
   ],
   "source": [
    "import requests\n",
    "\n",
    "api_key = '12750ae64c3bf382f8a397fc8ba8bcd4'\n",
    "city = 'Саратов'\n",
    "\n",
    "url = f'http://api.openweathermap.org/data/2.5/weather?q={city}&appid={api_key}&units=metric'\n",
    "\n",
    "\n",
    "response = requests.get(url)\n",
    "\n",
    "\n",
    "if response.status_code == 200:\n",
    "\n",
    "    weather_data = response.json()\n",
    "\n",
    "  \n",
    "    temperature = weather_data['main']['temp']\n",
    "    description = weather_data['weather'][0]['description']\n",
    "\n",
    "    print(f\"Текущая температура в {city}: {temperature}°C\")\n",
    "    print(f\"Описание погоды: {description}\")\n",
    "else:\n",
    "    print(f\"Ошибка: {response.status_code}\")\n",
    "     "
   ]
  },
  {
   "cell_type": "code",
   "execution_count": null,
   "id": "3b31929b-0a21-4d78-b71b-fffa477c81bf",
   "metadata": {},
   "outputs": [],
   "source": []
  }
 ],
 "metadata": {
  "kernelspec": {
   "display_name": "Python [conda env:base] *",
   "language": "python",
   "name": "conda-base-py"
  },
  "language_info": {
   "codemirror_mode": {
    "name": "ipython",
    "version": 3
   },
   "file_extension": ".py",
   "mimetype": "text/x-python",
   "name": "python",
   "nbconvert_exporter": "python",
   "pygments_lexer": "ipython3",
   "version": "3.12.7"
  }
 },
 "nbformat": 4,
 "nbformat_minor": 5
}
