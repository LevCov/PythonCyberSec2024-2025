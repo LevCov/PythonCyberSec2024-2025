{
 "cells": [
  {
   "cell_type": "code",
   "execution_count": 1,
   "id": "07fea92c",
   "metadata": {},
   "outputs": [],
   "source": [
    "#Задание 1"
   ]
  },
  {
   "cell_type": "code",
   "execution_count": 4,
   "id": "4e846c02",
   "metadata": {},
   "outputs": [],
   "source": [
    "def sum_distance(from_value, to_value):\n",
    "    \n",
    "    if from_value > to_value:\n",
    "        from_value, to_value = to_value, from_value\n",
    "\n",
    "    return sum(range(from_value, to_value + 1))"
   ]
  },
  {
   "cell_type": "code",
   "execution_count": 3,
   "id": "bfe193f8",
   "metadata": {},
   "outputs": [
    {
     "data": {
      "text/plain": [
       "55"
      ]
     },
     "execution_count": 3,
     "metadata": {},
     "output_type": "execute_result"
    }
   ],
   "source": [
    "sum_distance(1,10)"
   ]
  },
  {
   "cell_type": "code",
   "execution_count": 6,
   "id": "7e9cc44d",
   "metadata": {},
   "outputs": [
    {
     "data": {
      "text/plain": [
       "1890"
      ]
     },
     "execution_count": 6,
     "metadata": {},
     "output_type": "execute_result"
    }
   ],
   "source": [
    "sum_distance(100, 80)"
   ]
  },
  {
   "cell_type": "code",
   "execution_count": 7,
   "id": "c836e0b7",
   "metadata": {},
   "outputs": [],
   "source": [
    "#Задание 2"
   ]
  },
  {
   "cell_type": "code",
   "execution_count": 3,
   "id": "5bcb2f32",
   "metadata": {},
   "outputs": [],
   "source": [
    "def trim_and_repeat(string, offset=0, repetitions=1):\n",
    "    \n",
    "    trimmed_string = string[offset:]\n",
    "    \n",
    "    result = trimmed_string * repetitions\n",
    "    \n",
    "    return result"
   ]
  },
  {
   "cell_type": "code",
   "execution_count": 6,
   "id": "64e155c5",
   "metadata": {},
   "outputs": [
    {
     "data": {
      "text/plain": [
       "'mplemplemple'"
      ]
     },
     "execution_count": 6,
     "metadata": {},
     "output_type": "execute_result"
    }
   ],
   "source": [
    "trim_and_repeat(\"Example\", offset=3, repetitions=3)"
   ]
  },
  {
   "cell_type": "code",
   "execution_count": 7,
   "id": "4846e3de",
   "metadata": {},
   "outputs": [
    {
     "data": {
      "text/plain": [
       "'Example'"
      ]
     },
     "execution_count": 7,
     "metadata": {},
     "output_type": "execute_result"
    }
   ],
   "source": [
    "trim_and_repeat(\"Example\")"
   ]
  },
  {
   "cell_type": "code",
   "execution_count": null,
   "id": "a15784f9",
   "metadata": {},
   "outputs": [],
   "source": []
  }
 ],
 "metadata": {
  "kernelspec": {
   "display_name": "Python 3 (ipykernel)",
   "language": "python",
   "name": "python3"
  },
  "language_info": {
   "codemirror_mode": {
    "name": "ipython",
    "version": 3
   },
   "file_extension": ".py",
   "mimetype": "text/x-python",
   "name": "python",
   "nbconvert_exporter": "python",
   "pygments_lexer": "ipython3",
   "version": "3.11.5"
  }
 },
 "nbformat": 4,
 "nbformat_minor": 5
}
