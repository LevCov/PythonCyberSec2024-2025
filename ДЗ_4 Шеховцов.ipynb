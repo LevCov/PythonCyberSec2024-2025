{
 "cells": [
  {
   "cell_type": "code",
   "execution_count": 6,
   "id": "f914c381",
   "metadata": {},
   "outputs": [],
   "source": [
    "#Задание 1"
   ]
  },
  {
   "cell_type": "code",
   "execution_count": 35,
   "id": "62ec2696",
   "metadata": {},
   "outputs": [],
   "source": [
    "import json\n",
    "\n",
    "def parse_purchase_log(file_path, num_items):\n",
    "    purchases = {}\n",
    "    try:\n",
    "        with open(file_path, 'r', encoding='utf-8') as file:\n",
    "            # Пропускаем первую строку user_id 'category'\n",
    "            next(file)\n",
    "            for line in file:\n",
    "                if line.strip():\n",
    "                    record = json.loads(line.strip())\n",
    "                    purchases[record['user_id']] = record['category']\n",
    "        \n",
    "        print(\"purchases:\")\n",
    "        for user_id, category in list(purchases.items())[:num_items]:\n",
    "            print(f\"{user_id} '{category}'\")\n",
    "            \n",
    "    except Exception as e:\n",
    "        print(f\"Произошла ошибка: {e}\")\n",
    "        return {}"
   ]
  },
  {
   "cell_type": "code",
   "execution_count": 38,
   "id": "f96a605a",
   "metadata": {},
   "outputs": [
    {
     "name": "stdout",
     "output_type": "stream",
     "text": [
      "purchases:\n",
      "1840e0b9d4 'Продукты'\n",
      "4e4f90fcfb 'Электроника'\n"
     ]
    }
   ],
   "source": [
    "parse_purchase_log(\"purchase_log.txt\",2)"
   ]
  },
  {
   "cell_type": "code",
   "execution_count": null,
   "id": "968fcdf9",
   "metadata": {},
   "outputs": [],
   "source": []
  }
 ],
 "metadata": {
  "kernelspec": {
   "display_name": "Python 3 (ipykernel)",
   "language": "python",
   "name": "python3"
  },
  "language_info": {
   "codemirror_mode": {
    "name": "ipython",
    "version": 3
   },
   "file_extension": ".py",
   "mimetype": "text/x-python",
   "name": "python",
   "nbconvert_exporter": "python",
   "pygments_lexer": "ipython3",
   "version": "3.11.5"
  }
 },
 "nbformat": 4,
 "nbformat_minor": 5
}
